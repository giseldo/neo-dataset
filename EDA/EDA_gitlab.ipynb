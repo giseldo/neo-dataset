{
 "cells": [
  {
   "cell_type": "code",
   "execution_count": 1,
   "metadata": {},
   "outputs": [
    {
     "name": "stderr",
     "output_type": "stream",
     "text": [
      "c:\\Python\\Python310\\lib\\site-packages\\pandas\\core\\tools\\datetimes.py:528: RuntimeWarning: invalid value encountered in cast\n",
      "  arr, tz_parsed = tslib.array_with_unit_to_datetime(arg, unit, errors=errors)\n"
     ]
    }
   ],
   "source": [
    "import pandas as pd\n",
    "import os\n",
    "\n",
    "df = pd.read_json(os.getcwd() + \"/../dataset/gitlab_issues_2023_01_15.json\")"
   ]
  },
  {
   "cell_type": "code",
   "execution_count": 2,
   "metadata": {},
   "outputs": [
    {
     "data": {
      "text/plain": [
       "(19548, 40)"
      ]
     },
     "execution_count": 2,
     "metadata": {},
     "output_type": "execute_result"
    }
   ],
   "source": [
    "df.shape"
   ]
  },
  {
   "cell_type": "code",
   "execution_count": 3,
   "metadata": {},
   "outputs": [
    {
     "name": "stdout",
     "output_type": "stream",
     "text": [
      "Index(['id', 'iid', 'project_id', 'title', 'description', 'state',\n",
      "       'created_at', 'updated_at', 'closed_at', 'closed_by', 'labels',\n",
      "       'milestone', 'assignees', 'author', 'type', 'assignee',\n",
      "       'user_notes_count', 'merge_requests_count', 'upvotes', 'downvotes',\n",
      "       'due_date', 'confidential', 'discussion_locked', 'issue_type',\n",
      "       'web_url', 'time_stats', 'task_completion_status', 'weight',\n",
      "       'blocking_issues_count', 'has_tasks', '_links', 'references',\n",
      "       'severity', 'moved_to_id', 'service_desk_reply_to', 'epic_iid', 'epic',\n",
      "       'iteration', 'health_status', 'task_status'],\n",
      "      dtype='object')\n"
     ]
    }
   ],
   "source": [
    "print(df.columns)"
   ]
  },
  {
   "cell_type": "code",
   "execution_count": 6,
   "metadata": {},
   "outputs": [
    {
     "data": {
      "text/plain": [
       "count    19548.000000\n",
       "mean         2.111213\n",
       "std          1.812574\n",
       "min          0.000000\n",
       "25%          1.000000\n",
       "50%          2.000000\n",
       "75%          3.000000\n",
       "max        160.000000\n",
       "Name: weight, dtype: float64"
      ]
     },
     "execution_count": 6,
     "metadata": {},
     "output_type": "execute_result"
    }
   ],
   "source": [
    "df[\"weight\"].describe()"
   ]
  },
  {
   "cell_type": "code",
   "execution_count": 4,
   "metadata": {},
   "outputs": [
    {
     "data": {
      "text/plain": [
       "1      7747\n",
       "2      6048\n",
       "3      3856\n",
       "5      1122\n",
       "4       317\n",
       "8       173\n",
       "0       119\n",
       "6        68\n",
       "13       26\n",
       "10       25\n",
       "7        23\n",
       "9        16\n",
       "11        2\n",
       "15        2\n",
       "160       1\n",
       "20        1\n",
       "30        1\n",
       "34        1\n",
       "Name: weight, dtype: int64"
      ]
     },
     "execution_count": 4,
     "metadata": {},
     "output_type": "execute_result"
    }
   ],
   "source": [
    "df[\"weight\"].value_counts()"
   ]
  },
  {
   "cell_type": "code",
   "execution_count": 5,
   "metadata": {},
   "outputs": [
    {
     "data": {
      "text/html": [
       "<div>\n",
       "<style scoped>\n",
       "    .dataframe tbody tr th:only-of-type {\n",
       "        vertical-align: middle;\n",
       "    }\n",
       "\n",
       "    .dataframe tbody tr th {\n",
       "        vertical-align: top;\n",
       "    }\n",
       "\n",
       "    .dataframe thead th {\n",
       "        text-align: right;\n",
       "    }\n",
       "</style>\n",
       "<table border=\"1\" class=\"dataframe\">\n",
       "  <thead>\n",
       "    <tr style=\"text-align: right;\">\n",
       "      <th></th>\n",
       "      <th>id</th>\n",
       "      <th>iid</th>\n",
       "      <th>project_id</th>\n",
       "      <th>title</th>\n",
       "      <th>description</th>\n",
       "      <th>state</th>\n",
       "      <th>created_at</th>\n",
       "      <th>updated_at</th>\n",
       "      <th>closed_at</th>\n",
       "      <th>closed_by</th>\n",
       "      <th>...</th>\n",
       "      <th>_links</th>\n",
       "      <th>references</th>\n",
       "      <th>severity</th>\n",
       "      <th>moved_to_id</th>\n",
       "      <th>service_desk_reply_to</th>\n",
       "      <th>epic_iid</th>\n",
       "      <th>epic</th>\n",
       "      <th>iteration</th>\n",
       "      <th>health_status</th>\n",
       "      <th>task_status</th>\n",
       "    </tr>\n",
       "  </thead>\n",
       "  <tbody>\n",
       "    <tr>\n",
       "      <th>3732</th>\n",
       "      <td>35171780</td>\n",
       "      <td>219493</td>\n",
       "      <td>278964</td>\n",
       "      <td>Only suggest confidential issues when adding i...</td>\n",
       "      <td>### Summary\\n\\nPublic issues are suggested whe...</td>\n",
       "      <td>closed</td>\n",
       "      <td>2020-05-29 12:58:34.587</td>\n",
       "      <td>2021-11-08 16:53:15.816</td>\n",
       "      <td>2020-08-12 20:57:14.654000128</td>\n",
       "      <td>{'id': 5965371, 'username': 'jlear', 'name': '...</td>\n",
       "      <td>...</td>\n",
       "      <td>{'self': 'https://gitlab.com/api/v4/projects/2...</td>\n",
       "      <td>{'short': '#219493', 'relative': '#219493', 'f...</td>\n",
       "      <td>UNKNOWN</td>\n",
       "      <td>NaN</td>\n",
       "      <td>NaN</td>\n",
       "      <td>3003.0</td>\n",
       "      <td>{'id': 38085, 'iid': 3003, 'title': 'New Epics...</td>\n",
       "      <td>None</td>\n",
       "      <td>None</td>\n",
       "      <td>None</td>\n",
       "    </tr>\n",
       "    <tr>\n",
       "      <th>5647</th>\n",
       "      <td>31079361</td>\n",
       "      <td>207385</td>\n",
       "      <td>278964</td>\n",
       "      <td>Add unique constraint to services table to all...</td>\n",
       "      <td>There should be a unique index for `project_id...</td>\n",
       "      <td>closed</td>\n",
       "      <td>2020-02-20 14:17:40.144</td>\n",
       "      <td>2022-11-22 20:09:54.741</td>\n",
       "      <td>2021-02-02 13:42:06.076999936</td>\n",
       "      <td>{'id': 423116, 'username': 'toupeira', 'name':...</td>\n",
       "      <td>...</td>\n",
       "      <td>{'self': 'https://gitlab.com/api/v4/projects/2...</td>\n",
       "      <td>{'short': '#207385', 'relative': '#207385', 'f...</td>\n",
       "      <td>UNKNOWN</td>\n",
       "      <td>NaN</td>\n",
       "      <td>NaN</td>\n",
       "      <td>3366.0</td>\n",
       "      <td>{'id': 56441, 'iid': 3366, 'title': 'Cleanup i...</td>\n",
       "      <td>None</td>\n",
       "      <td>None</td>\n",
       "      <td>None</td>\n",
       "    </tr>\n",
       "    <tr>\n",
       "      <th>7733</th>\n",
       "      <td>25519752</td>\n",
       "      <td>33180</td>\n",
       "      <td>278964</td>\n",
       "      <td>Document when and how a suggested MR is create...</td>\n",
       "      <td>Wait for https://gitlab.com/gitlab-org/gitlab/...</td>\n",
       "      <td>closed</td>\n",
       "      <td>2019-10-01 20:43:33.769</td>\n",
       "      <td>2021-04-03 08:31:02.967</td>\n",
       "      <td>2020-04-29 10:17:56.016999936</td>\n",
       "      <td>{'id': 1378158, 'username': 'brytannia', 'name...</td>\n",
       "      <td>...</td>\n",
       "      <td>{'self': 'https://gitlab.com/api/v4/projects/2...</td>\n",
       "      <td>{'short': '#33180', 'relative': '#33180', 'ful...</td>\n",
       "      <td>UNKNOWN</td>\n",
       "      <td>NaN</td>\n",
       "      <td>NaN</td>\n",
       "      <td>2165.0</td>\n",
       "      <td>{'id': 14751, 'iid': 2165, 'title': 'Enable 3r...</td>\n",
       "      <td>None</td>\n",
       "      <td>None</td>\n",
       "      <td>None</td>\n",
       "    </tr>\n",
       "  </tbody>\n",
       "</table>\n",
       "<p>3 rows × 40 columns</p>\n",
       "</div>"
      ],
      "text/plain": [
       "            id     iid  project_id  \\\n",
       "3732  35171780  219493      278964   \n",
       "5647  31079361  207385      278964   \n",
       "7733  25519752   33180      278964   \n",
       "\n",
       "                                                  title  \\\n",
       "3732  Only suggest confidential issues when adding i...   \n",
       "5647  Add unique constraint to services table to all...   \n",
       "7733  Document when and how a suggested MR is create...   \n",
       "\n",
       "                                            description   state  \\\n",
       "3732  ### Summary\\n\\nPublic issues are suggested whe...  closed   \n",
       "5647  There should be a unique index for `project_id...  closed   \n",
       "7733  Wait for https://gitlab.com/gitlab-org/gitlab/...  closed   \n",
       "\n",
       "                  created_at              updated_at  \\\n",
       "3732 2020-05-29 12:58:34.587 2021-11-08 16:53:15.816   \n",
       "5647 2020-02-20 14:17:40.144 2022-11-22 20:09:54.741   \n",
       "7733 2019-10-01 20:43:33.769 2021-04-03 08:31:02.967   \n",
       "\n",
       "                         closed_at  \\\n",
       "3732 2020-08-12 20:57:14.654000128   \n",
       "5647 2021-02-02 13:42:06.076999936   \n",
       "7733 2020-04-29 10:17:56.016999936   \n",
       "\n",
       "                                              closed_by  ...  \\\n",
       "3732  {'id': 5965371, 'username': 'jlear', 'name': '...  ...   \n",
       "5647  {'id': 423116, 'username': 'toupeira', 'name':...  ...   \n",
       "7733  {'id': 1378158, 'username': 'brytannia', 'name...  ...   \n",
       "\n",
       "                                                 _links  \\\n",
       "3732  {'self': 'https://gitlab.com/api/v4/projects/2...   \n",
       "5647  {'self': 'https://gitlab.com/api/v4/projects/2...   \n",
       "7733  {'self': 'https://gitlab.com/api/v4/projects/2...   \n",
       "\n",
       "                                             references severity moved_to_id  \\\n",
       "3732  {'short': '#219493', 'relative': '#219493', 'f...  UNKNOWN         NaN   \n",
       "5647  {'short': '#207385', 'relative': '#207385', 'f...  UNKNOWN         NaN   \n",
       "7733  {'short': '#33180', 'relative': '#33180', 'ful...  UNKNOWN         NaN   \n",
       "\n",
       "     service_desk_reply_to epic_iid  \\\n",
       "3732                   NaN   3003.0   \n",
       "5647                   NaN   3366.0   \n",
       "7733                   NaN   2165.0   \n",
       "\n",
       "                                                   epic  iteration  \\\n",
       "3732  {'id': 38085, 'iid': 3003, 'title': 'New Epics...       None   \n",
       "5647  {'id': 56441, 'iid': 3366, 'title': 'Cleanup i...       None   \n",
       "7733  {'id': 14751, 'iid': 2165, 'title': 'Enable 3r...       None   \n",
       "\n",
       "      health_status  task_status  \n",
       "3732           None         None  \n",
       "5647           None         None  \n",
       "7733           None         None  \n",
       "\n",
       "[3 rows x 40 columns]"
      ]
     },
     "execution_count": 5,
     "metadata": {},
     "output_type": "execute_result"
    }
   ],
   "source": [
    "df.sample(3)"
   ]
  },
  {
   "cell_type": "code",
   "execution_count": 13,
   "metadata": {},
   "outputs": [
    {
     "data": {
      "text/html": [
       "<div>\n",
       "<style scoped>\n",
       "    .dataframe tbody tr th:only-of-type {\n",
       "        vertical-align: middle;\n",
       "    }\n",
       "\n",
       "    .dataframe tbody tr th {\n",
       "        vertical-align: top;\n",
       "    }\n",
       "\n",
       "    .dataframe thead th {\n",
       "        text-align: right;\n",
       "    }\n",
       "</style>\n",
       "<table border=\"1\" class=\"dataframe\">\n",
       "  <thead>\n",
       "    <tr style=\"text-align: right;\">\n",
       "      <th></th>\n",
       "      <th>title</th>\n",
       "      <th>description</th>\n",
       "      <th>weight</th>\n",
       "    </tr>\n",
       "  </thead>\n",
       "  <tbody>\n",
       "    <tr>\n",
       "      <th>11411</th>\n",
       "      <td>Enable the certificate-based clusters feature ...</td>\n",
       "      <td>&lt;!-- This template is a great use for issues t...</td>\n",
       "      <td>3</td>\n",
       "    </tr>\n",
       "    <tr>\n",
       "      <th>5141</th>\n",
       "      <td>Provide instance level setting to enable or di...</td>\n",
       "      <td>Follow up to: https://gitlab.com/gitlab-org/gi...</td>\n",
       "      <td>5</td>\n",
       "    </tr>\n",
       "    <tr>\n",
       "      <th>13817</th>\n",
       "      <td>Remove the ignore rule for bio_html and cached...</td>\n",
       "      <td>A follow up to https://gitlab.com/gitlab-org/g...</td>\n",
       "      <td>1</td>\n",
       "    </tr>\n",
       "  </tbody>\n",
       "</table>\n",
       "</div>"
      ],
      "text/plain": [
       "                                                   title  \\\n",
       "11411  Enable the certificate-based clusters feature ...   \n",
       "5141   Provide instance level setting to enable or di...   \n",
       "13817  Remove the ignore rule for bio_html and cached...   \n",
       "\n",
       "                                             description  weight  \n",
       "11411  <!-- This template is a great use for issues t...       3  \n",
       "5141   Follow up to: https://gitlab.com/gitlab-org/gi...       5  \n",
       "13817  A follow up to https://gitlab.com/gitlab-org/g...       1  "
      ]
     },
     "execution_count": 13,
     "metadata": {},
     "output_type": "execute_result"
    }
   ],
   "source": [
    "df[[\"title\", \"description\", \"weight\"]].sample(3)"
   ]
  },
  {
   "cell_type": "code",
   "execution_count": 9,
   "metadata": {},
   "outputs": [
    {
     "data": {
      "text/html": [
       "<div>\n",
       "<style scoped>\n",
       "    .dataframe tbody tr th:only-of-type {\n",
       "        vertical-align: middle;\n",
       "    }\n",
       "\n",
       "    .dataframe tbody tr th {\n",
       "        vertical-align: top;\n",
       "    }\n",
       "\n",
       "    .dataframe thead th {\n",
       "        text-align: right;\n",
       "    }\n",
       "</style>\n",
       "<table border=\"1\" class=\"dataframe\">\n",
       "  <thead>\n",
       "    <tr style=\"text-align: right;\">\n",
       "      <th></th>\n",
       "      <th>quantidade</th>\n",
       "    </tr>\n",
       "    <tr>\n",
       "      <th>weight</th>\n",
       "      <th></th>\n",
       "    </tr>\n",
       "  </thead>\n",
       "  <tbody>\n",
       "    <tr>\n",
       "      <th>0</th>\n",
       "      <td>119</td>\n",
       "    </tr>\n",
       "    <tr>\n",
       "      <th>1</th>\n",
       "      <td>7747</td>\n",
       "    </tr>\n",
       "    <tr>\n",
       "      <th>2</th>\n",
       "      <td>6048</td>\n",
       "    </tr>\n",
       "    <tr>\n",
       "      <th>3</th>\n",
       "      <td>3856</td>\n",
       "    </tr>\n",
       "    <tr>\n",
       "      <th>4</th>\n",
       "      <td>317</td>\n",
       "    </tr>\n",
       "    <tr>\n",
       "      <th>5</th>\n",
       "      <td>1122</td>\n",
       "    </tr>\n",
       "    <tr>\n",
       "      <th>6</th>\n",
       "      <td>68</td>\n",
       "    </tr>\n",
       "    <tr>\n",
       "      <th>7</th>\n",
       "      <td>23</td>\n",
       "    </tr>\n",
       "    <tr>\n",
       "      <th>8</th>\n",
       "      <td>173</td>\n",
       "    </tr>\n",
       "    <tr>\n",
       "      <th>9</th>\n",
       "      <td>16</td>\n",
       "    </tr>\n",
       "    <tr>\n",
       "      <th>10</th>\n",
       "      <td>25</td>\n",
       "    </tr>\n",
       "    <tr>\n",
       "      <th>11</th>\n",
       "      <td>2</td>\n",
       "    </tr>\n",
       "    <tr>\n",
       "      <th>13</th>\n",
       "      <td>26</td>\n",
       "    </tr>\n",
       "    <tr>\n",
       "      <th>15</th>\n",
       "      <td>2</td>\n",
       "    </tr>\n",
       "    <tr>\n",
       "      <th>20</th>\n",
       "      <td>1</td>\n",
       "    </tr>\n",
       "    <tr>\n",
       "      <th>30</th>\n",
       "      <td>1</td>\n",
       "    </tr>\n",
       "    <tr>\n",
       "      <th>34</th>\n",
       "      <td>1</td>\n",
       "    </tr>\n",
       "    <tr>\n",
       "      <th>160</th>\n",
       "      <td>1</td>\n",
       "    </tr>\n",
       "  </tbody>\n",
       "</table>\n",
       "</div>"
      ],
      "text/plain": [
       "        quantidade\n",
       "weight            \n",
       "0              119\n",
       "1             7747\n",
       "2             6048\n",
       "3             3856\n",
       "4              317\n",
       "5             1122\n",
       "6               68\n",
       "7               23\n",
       "8              173\n",
       "9               16\n",
       "10              25\n",
       "11               2\n",
       "13              26\n",
       "15               2\n",
       "20               1\n",
       "30               1\n",
       "34               1\n",
       "160              1"
      ]
     },
     "execution_count": 9,
     "metadata": {},
     "output_type": "execute_result"
    }
   ],
   "source": [
    "agrupado = df.groupby([\"weight\"]).size()\n",
    "dfagrupado = pd.DataFrame(agrupado)\n",
    "dfagrupado = dfagrupado.rename(columns={0: 'quantidade'})\n",
    "dfagrupado"
   ]
  }
 ],
 "metadata": {
  "kernelspec": {
   "display_name": "Python 3",
   "language": "python",
   "name": "python3"
  },
  "language_info": {
   "codemirror_mode": {
    "name": "ipython",
    "version": 3
   },
   "file_extension": ".py",
   "mimetype": "text/x-python",
   "name": "python",
   "nbconvert_exporter": "python",
   "pygments_lexer": "ipython3",
   "version": "3.10.11"
  },
  "orig_nbformat": 4,
  "vscode": {
   "interpreter": {
    "hash": "d3e10ef16274dd72e574b8fa73b58450b957d8421a2901baded3cca26fcf5dda"
   }
  }
 },
 "nbformat": 4,
 "nbformat_minor": 2
}
