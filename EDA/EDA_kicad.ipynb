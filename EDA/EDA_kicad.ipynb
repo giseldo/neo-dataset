{
 "cells": [
  {
   "cell_type": "code",
   "execution_count": 2,
   "metadata": {},
   "outputs": [],
   "source": [
    "import pandas as pd\n",
    "import os\n",
    "\n",
    "df = pd.read_json(os.getcwd() + \"/../dataset/kicad_2023_01_15.json\")"
   ]
  },
  {
   "cell_type": "code",
   "execution_count": 3,
   "metadata": {},
   "outputs": [
    {
     "data": {
      "text/plain": [
       "(3284, 40)"
      ]
     },
     "execution_count": 3,
     "metadata": {},
     "output_type": "execute_result"
    }
   ],
   "source": [
    "df.shape"
   ]
  },
  {
   "cell_type": "code",
   "execution_count": 4,
   "metadata": {},
   "outputs": [
    {
     "data": {
      "text/plain": [
       "count    3284.000000\n",
       "mean       10.563946\n",
       "std        14.193085\n",
       "min         4.000000\n",
       "25%         6.000000\n",
       "50%         6.000000\n",
       "75%        10.000000\n",
       "max       268.000000\n",
       "Name: weight, dtype: float64"
      ]
     },
     "execution_count": 4,
     "metadata": {},
     "output_type": "execute_result"
    }
   ],
   "source": [
    "df[\"weight\"].describe()"
   ]
  },
  {
   "cell_type": "code",
   "execution_count": 5,
   "metadata": {},
   "outputs": [
    {
     "data": {
      "text/plain": [
       "6      2103\n",
       "10      354\n",
       "14      169\n",
       "8       142\n",
       "12       86\n",
       "18       80\n",
       "16       63\n",
       "22       56\n",
       "20       31\n",
       "26       26\n",
       "30       21\n",
       "24       17\n",
       "34       16\n",
       "32       15\n",
       "28       12\n",
       "38       10\n",
       "40        6\n",
       "36        5\n",
       "42        5\n",
       "50        5\n",
       "46        5\n",
       "62        4\n",
       "44        4\n",
       "70        4\n",
       "68        4\n",
       "58        3\n",
       "48        3\n",
       "64        2\n",
       "60        2\n",
       "54        2\n",
       "4         2\n",
       "78        2\n",
       "268       1\n",
       "96        1\n",
       "150       1\n",
       "186       1\n",
       "182       1\n",
       "136       1\n",
       "156       1\n",
       "106       1\n",
       "102       1\n",
       "172       1\n",
       "174       1\n",
       "164       1\n",
       "100       1\n",
       "114       1\n",
       "234       1\n",
       "200       1\n",
       "72        1\n",
       "52        1\n",
       "144       1\n",
       "140       1\n",
       "74        1\n",
       "76        1\n",
       "56        1\n",
       "86        1\n",
       "82        1\n",
       "Name: weight, dtype: int64"
      ]
     },
     "execution_count": 5,
     "metadata": {},
     "output_type": "execute_result"
    }
   ],
   "source": [
    "df[\"weight\"].value_counts()"
   ]
  },
  {
   "cell_type": "code",
   "execution_count": null,
   "metadata": {},
   "outputs": [],
   "source": []
  }
 ],
 "metadata": {
  "kernelspec": {
   "display_name": "Python 3",
   "language": "python",
   "name": "python3"
  },
  "language_info": {
   "codemirror_mode": {
    "name": "ipython",
    "version": 3
   },
   "file_extension": ".py",
   "mimetype": "text/x-python",
   "name": "python",
   "nbconvert_exporter": "python",
   "pygments_lexer": "ipython3",
   "version": "3.10.11"
  },
  "orig_nbformat": 4
 },
 "nbformat": 4,
 "nbformat_minor": 2
}
