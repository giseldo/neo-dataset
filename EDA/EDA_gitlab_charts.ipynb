{
 "cells": [
  {
   "cell_type": "code",
   "execution_count": 1,
   "metadata": {},
   "outputs": [],
   "source": [
    "import pandas as pd\n",
    "import os"
   ]
  },
  {
   "cell_type": "code",
   "execution_count": 5,
   "metadata": {},
   "outputs": [],
   "source": [
    "df = pd.read_json(os.getcwd() + '/../dataset/gitlab_charts_gitlab_2023_01_05.json')"
   ]
  },
  {
   "cell_type": "code",
   "execution_count": 6,
   "metadata": {},
   "outputs": [
    {
     "data": {
      "text/html": [
       "<div>\n",
       "<style scoped>\n",
       "    .dataframe tbody tr th:only-of-type {\n",
       "        vertical-align: middle;\n",
       "    }\n",
       "\n",
       "    .dataframe tbody tr th {\n",
       "        vertical-align: top;\n",
       "    }\n",
       "\n",
       "    .dataframe thead th {\n",
       "        text-align: right;\n",
       "    }\n",
       "</style>\n",
       "<table border=\"1\" class=\"dataframe\">\n",
       "  <thead>\n",
       "    <tr style=\"text-align: right;\">\n",
       "      <th></th>\n",
       "      <th>id</th>\n",
       "      <th>iid</th>\n",
       "      <th>project_id</th>\n",
       "      <th>title</th>\n",
       "      <th>description</th>\n",
       "      <th>state</th>\n",
       "      <th>created_at</th>\n",
       "      <th>updated_at</th>\n",
       "      <th>closed_at</th>\n",
       "      <th>closed_by</th>\n",
       "      <th>...</th>\n",
       "      <th>_links</th>\n",
       "      <th>references</th>\n",
       "      <th>severity</th>\n",
       "      <th>moved_to_id</th>\n",
       "      <th>service_desk_reply_to</th>\n",
       "      <th>epic_iid</th>\n",
       "      <th>epic</th>\n",
       "      <th>iteration</th>\n",
       "      <th>health_status</th>\n",
       "      <th>task_status</th>\n",
       "    </tr>\n",
       "  </thead>\n",
       "  <tbody>\n",
       "    <tr>\n",
       "      <th>14</th>\n",
       "      <td>20621766</td>\n",
       "      <td>1312</td>\n",
       "      <td>3828396</td>\n",
       "      <td>Consider caching gems to make the gitlab-rails...</td>\n",
       "      <td>Rubygems seems to currently have problems, whi...</td>\n",
       "      <td>closed</td>\n",
       "      <td>2019-05-06 14:07:50.613000+00:00</td>\n",
       "      <td>2019-12-12 14:09:28.931000+00:00</td>\n",
       "      <td>2019-12-12 13:45:49.236000+00:00</td>\n",
       "      <td>{'id': 128633, 'username': 'rymai', 'name': 'R...</td>\n",
       "      <td>...</td>\n",
       "      <td>{'self': 'https://gitlab.com/api/v4/projects/3...</td>\n",
       "      <td>{'short': '#1312', 'relative': '#1312', 'full'...</td>\n",
       "      <td>UNKNOWN</td>\n",
       "      <td>NaN</td>\n",
       "      <td>NaN</td>\n",
       "      <td>NaN</td>\n",
       "      <td>None</td>\n",
       "      <td>NaN</td>\n",
       "      <td>None</td>\n",
       "      <td>0 of 0 checklist items completed</td>\n",
       "    </tr>\n",
       "    <tr>\n",
       "      <th>10</th>\n",
       "      <td>69815283</td>\n",
       "      <td>2252</td>\n",
       "      <td>3828396</td>\n",
       "      <td>Geo - Remove FDW related config from charts</td>\n",
       "      <td>https://gitlab.com/gitlab-org/charts/gitlab/</td>\n",
       "      <td>closed</td>\n",
       "      <td>2020-08-10 14:36:04.734000+00:00</td>\n",
       "      <td>2020-08-19 13:44:29.698000+00:00</td>\n",
       "      <td>2020-08-17 18:45:04.497000+00:00</td>\n",
       "      <td>{'id': 42196, 'username': 'twk3', 'name': 'DJ ...</td>\n",
       "      <td>...</td>\n",
       "      <td>{'self': 'https://gitlab.com/api/v4/projects/3...</td>\n",
       "      <td>{'short': '#2252', 'relative': '#2252', 'full'...</td>\n",
       "      <td>UNKNOWN</td>\n",
       "      <td>NaN</td>\n",
       "      <td>NaN</td>\n",
       "      <td>2851.0</td>\n",
       "      <td>{'id': 29462, 'iid': 2851, 'title': 'Geo: Impr...</td>\n",
       "      <td>NaN</td>\n",
       "      <td>None</td>\n",
       "      <td>0 of 0 checklist items completed</td>\n",
       "    </tr>\n",
       "    <tr>\n",
       "      <th>1</th>\n",
       "      <td>118702762</td>\n",
       "      <td>3994</td>\n",
       "      <td>3828396</td>\n",
       "      <td>Document how to connect KAS to Redis via SSL</td>\n",
       "      <td>&lt;!--\\nNOTICE: This Issue tracker is for the Gi...</td>\n",
       "      <td>closed</td>\n",
       "      <td>2022-11-14 21:10:37.409000+00:00</td>\n",
       "      <td>2023-01-24 20:01:12.959000+00:00</td>\n",
       "      <td>2023-01-19 19:41:27.771000+00:00</td>\n",
       "      <td>{'id': 12416307, 'username': 'hustewart', 'nam...</td>\n",
       "      <td>...</td>\n",
       "      <td>{'self': 'https://gitlab.com/api/v4/projects/3...</td>\n",
       "      <td>{'short': '#3994', 'relative': '#3994', 'full'...</td>\n",
       "      <td>UNKNOWN</td>\n",
       "      <td>NaN</td>\n",
       "      <td>NaN</td>\n",
       "      <td>NaN</td>\n",
       "      <td>None</td>\n",
       "      <td>NaN</td>\n",
       "      <td>on_track</td>\n",
       "      <td>0 of 0 checklist items completed</td>\n",
       "    </tr>\n",
       "  </tbody>\n",
       "</table>\n",
       "<p>3 rows × 40 columns</p>\n",
       "</div>"
      ],
      "text/plain": [
       "           id   iid  project_id  \\\n",
       "14   20621766  1312     3828396   \n",
       "10   69815283  2252     3828396   \n",
       "1   118702762  3994     3828396   \n",
       "\n",
       "                                                title  \\\n",
       "14  Consider caching gems to make the gitlab-rails...   \n",
       "10        Geo - Remove FDW related config from charts   \n",
       "1        Document how to connect KAS to Redis via SSL   \n",
       "\n",
       "                                          description   state  \\\n",
       "14  Rubygems seems to currently have problems, whi...  closed   \n",
       "10       https://gitlab.com/gitlab-org/charts/gitlab/  closed   \n",
       "1   <!--\\nNOTICE: This Issue tracker is for the Gi...  closed   \n",
       "\n",
       "                         created_at                       updated_at  \\\n",
       "14 2019-05-06 14:07:50.613000+00:00 2019-12-12 14:09:28.931000+00:00   \n",
       "10 2020-08-10 14:36:04.734000+00:00 2020-08-19 13:44:29.698000+00:00   \n",
       "1  2022-11-14 21:10:37.409000+00:00 2023-01-24 20:01:12.959000+00:00   \n",
       "\n",
       "                          closed_at  \\\n",
       "14 2019-12-12 13:45:49.236000+00:00   \n",
       "10 2020-08-17 18:45:04.497000+00:00   \n",
       "1  2023-01-19 19:41:27.771000+00:00   \n",
       "\n",
       "                                            closed_by  ...  \\\n",
       "14  {'id': 128633, 'username': 'rymai', 'name': 'R...  ...   \n",
       "10  {'id': 42196, 'username': 'twk3', 'name': 'DJ ...  ...   \n",
       "1   {'id': 12416307, 'username': 'hustewart', 'nam...  ...   \n",
       "\n",
       "                                               _links  \\\n",
       "14  {'self': 'https://gitlab.com/api/v4/projects/3...   \n",
       "10  {'self': 'https://gitlab.com/api/v4/projects/3...   \n",
       "1   {'self': 'https://gitlab.com/api/v4/projects/3...   \n",
       "\n",
       "                                           references severity moved_to_id  \\\n",
       "14  {'short': '#1312', 'relative': '#1312', 'full'...  UNKNOWN         NaN   \n",
       "10  {'short': '#2252', 'relative': '#2252', 'full'...  UNKNOWN         NaN   \n",
       "1   {'short': '#3994', 'relative': '#3994', 'full'...  UNKNOWN         NaN   \n",
       "\n",
       "   service_desk_reply_to epic_iid  \\\n",
       "14                   NaN      NaN   \n",
       "10                   NaN   2851.0   \n",
       "1                    NaN      NaN   \n",
       "\n",
       "                                                 epic  iteration  \\\n",
       "14                                               None        NaN   \n",
       "10  {'id': 29462, 'iid': 2851, 'title': 'Geo: Impr...        NaN   \n",
       "1                                                None        NaN   \n",
       "\n",
       "    health_status                       task_status  \n",
       "14           None  0 of 0 checklist items completed  \n",
       "10           None  0 of 0 checklist items completed  \n",
       "1        on_track  0 of 0 checklist items completed  \n",
       "\n",
       "[3 rows x 40 columns]"
      ]
     },
     "execution_count": 6,
     "metadata": {},
     "output_type": "execute_result"
    }
   ],
   "source": [
    "df.sample(3)"
   ]
  },
  {
   "cell_type": "code",
   "execution_count": 7,
   "metadata": {},
   "outputs": [
    {
     "data": {
      "text/plain": [
       "2    7\n",
       "1    5\n",
       "3    1\n",
       "5    1\n",
       "4    1\n",
       "Name: weight, dtype: int64"
      ]
     },
     "execution_count": 7,
     "metadata": {},
     "output_type": "execute_result"
    }
   ],
   "source": [
    "df[\"weight\"].value_counts()"
   ]
  },
  {
   "cell_type": "code",
   "execution_count": 8,
   "metadata": {},
   "outputs": [
    {
     "data": {
      "text/plain": [
       "(15, 40)"
      ]
     },
     "execution_count": 8,
     "metadata": {},
     "output_type": "execute_result"
    }
   ],
   "source": [
    "df.shape"
   ]
  },
  {
   "cell_type": "code",
   "execution_count": 9,
   "metadata": {},
   "outputs": [
    {
     "data": {
      "text/plain": [
       "count    15.000000\n",
       "mean      2.066667\n",
       "std       1.162919\n",
       "min       1.000000\n",
       "25%       1.000000\n",
       "50%       2.000000\n",
       "75%       2.000000\n",
       "max       5.000000\n",
       "Name: weight, dtype: float64"
      ]
     },
     "execution_count": 9,
     "metadata": {},
     "output_type": "execute_result"
    }
   ],
   "source": [
    "df[\"weight\"].describe()"
   ]
  },
  {
   "cell_type": "code",
   "execution_count": null,
   "metadata": {},
   "outputs": [],
   "source": []
  }
 ],
 "metadata": {
  "kernelspec": {
   "display_name": "Python 3",
   "language": "python",
   "name": "python3"
  },
  "language_info": {
   "codemirror_mode": {
    "name": "ipython",
    "version": 3
   },
   "file_extension": ".py",
   "mimetype": "text/x-python",
   "name": "python",
   "nbconvert_exporter": "python",
   "pygments_lexer": "ipython3",
   "version": "3.10.11"
  },
  "orig_nbformat": 4
 },
 "nbformat": 4,
 "nbformat_minor": 2
}
